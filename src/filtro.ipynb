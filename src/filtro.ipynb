{
 "cells": [
  {
   "cell_type": "code",
   "execution_count": null,
   "metadata": {},
   "outputs": [],
   "source": [
    "import pandas as pd\n",
    "\n",
    "# Carregar o arquivo CSV em um DataFrame\n",
    "file_path = '../dataset/full_players_filtered.csv'\n",
    "players_data = pd.read_csv(file_path)\n",
    "\n",
    "# Ordenar os jogadores por 'Overall' em ordem decrescente\n",
    "players_data.sort_values(by='Overall', ascending=False, inplace=True)\n",
    "\n",
    "# Categorias e posições específicas\n",
    "categories = {\n",
    "    'Atacantes': ['ST', 'CF', 'LW', 'RW'],\n",
    "    'Meias': ['CDM', 'CM', 'RM', 'LM', 'CAM'],\n",
    "    'Zagueiros': ['CB', 'RWB', 'LWB'],\n",
    "    'Laterais': ['LB', 'RB']  \n",
    "}\n",
    "\n",
    "# Número de jogadores a selecionar por categoria\n",
    "players_per_category = 100\n",
    "\n",
    "# Filtrar os top jogadores por categoria\n",
    "top_players_by_category = pd.DataFrame()\n",
    "\n",
    "for category, positions in categories.items():\n",
    "    if category == 'Laterais':\n",
    "        # Tratamento especial para laterais (divisão 50/50)\n",
    "        for position in positions:\n",
    "            top_players = players_data[players_data['Position'] == position].head(players_per_category // len(positions))\n",
    "            top_players_by_category = pd.concat([top_players_by_category, top_players])\n",
    "    else:\n",
    "        # Selecionar os top jogadores da categoria inteira\n",
    "        top_players = players_data[players_data['Position'].isin(positions)].head(players_per_category)\n",
    "        top_players_by_category = pd.concat([top_players_by_category, top_players])\n",
    "\n",
    "# Resetar o índice do DataFrame resultante\n",
    "top_players_by_category.reset_index(drop=True, inplace=True)\n",
    "\n",
    "# Salvar o DataFrame filtrado em um novo arquivo CSV\n",
    "filtered_csv_path = 'top_players_filtered.csv'\n",
    "top_players_by_category.to_csv(filtered_csv_path, index=False)\n",
    "\n",
    "print(f\"Arquivo filtrado salvo como: {filtered_csv_path}\")"
   ]
  }
 ],
 "metadata": {
  "kernelspec": {
   "display_name": "Python 3",
   "language": "python",
   "name": "python3"
  },
  "language_info": {
   "codemirror_mode": {
    "name": "ipython",
    "version": 3
   },
   "file_extension": ".py",
   "mimetype": "text/x-python",
   "name": "python",
   "nbconvert_exporter": "python",
   "pygments_lexer": "ipython3",
   "version": "3.10.12"
  }
 },
 "nbformat": 4,
 "nbformat_minor": 2
}
