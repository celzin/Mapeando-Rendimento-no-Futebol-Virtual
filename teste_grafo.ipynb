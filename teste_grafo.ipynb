{
 "cells": [
  {
   "cell_type": "code",
   "execution_count": 2,
   "metadata": {},
   "outputs": [
    {
     "name": "stdout",
     "output_type": "stream",
     "text": [
      "              Name Position  Overall\n",
      "0    Kylian Mbappé       ST       91\n",
      "1   Erling Haaland       ST       91\n",
      "2  Kevin De Bruyne       CM       91\n",
      "3     Lionel Messi       CF       90\n",
      "4    Karim Benzema       CF       90\n"
     ]
    },
    {
     "ename": "ModuleNotFoundError",
     "evalue": "No module named 'scipy'",
     "output_type": "error",
     "traceback": [
      "\u001b[0;31m---------------------------------------------------------------------------\u001b[0m",
      "\u001b[0;31mModuleNotFoundError\u001b[0m                       Traceback (most recent call last)",
      "\u001b[1;32m/home/celso/Downloads/python-grafos/teste_grafo.ipynb Cell 1\u001b[0m line \u001b[0;36m4\n\u001b[1;32m     <a href='vscode-notebook-cell:/home/celso/Downloads/python-grafos/teste_grafo.ipynb#W0sZmlsZQ%3D%3D?line=46'>47</a>\u001b[0m \u001b[39m# Configuração para a visualização do grafo\u001b[39;00m\n\u001b[1;32m     <a href='vscode-notebook-cell:/home/celso/Downloads/python-grafos/teste_grafo.ipynb#W0sZmlsZQ%3D%3D?line=47'>48</a>\u001b[0m plt\u001b[39m.\u001b[39mfigure(figsize\u001b[39m=\u001b[39m(\u001b[39m15\u001b[39m, \u001b[39m15\u001b[39m))\n\u001b[0;32m---> <a href='vscode-notebook-cell:/home/celso/Downloads/python-grafos/teste_grafo.ipynb#W0sZmlsZQ%3D%3D?line=48'>49</a>\u001b[0m pos \u001b[39m=\u001b[39m nx\u001b[39m.\u001b[39;49mspring_layout(G)  \u001b[39m# Layout dos nós\u001b[39;00m\n\u001b[1;32m     <a href='vscode-notebook-cell:/home/celso/Downloads/python-grafos/teste_grafo.ipynb#W0sZmlsZQ%3D%3D?line=50'>51</a>\u001b[0m \u001b[39m# Cores e tamanhos dos nós baseados em 'Overall'\u001b[39;00m\n\u001b[1;32m     <a href='vscode-notebook-cell:/home/celso/Downloads/python-grafos/teste_grafo.ipynb#W0sZmlsZQ%3D%3D?line=51'>52</a>\u001b[0m node_color \u001b[39m=\u001b[39m [G\u001b[39m.\u001b[39mnodes[node][\u001b[39m'\u001b[39m\u001b[39moverall\u001b[39m\u001b[39m'\u001b[39m] \u001b[39mfor\u001b[39;00m node \u001b[39min\u001b[39;00m G]\n",
      "File \u001b[0;32m<class 'networkx.utils.decorators.argmap'> compilation 4:4\u001b[0m, in \u001b[0;36margmap_spring_layout_1\u001b[0;34m(G, k, pos, fixed, iterations, threshold, weight, scale, center, dim, seed)\u001b[0m\n\u001b[1;32m      2\u001b[0m \u001b[39mimport\u001b[39;00m \u001b[39mcollections\u001b[39;00m\n\u001b[1;32m      3\u001b[0m \u001b[39mimport\u001b[39;00m \u001b[39mgzip\u001b[39;00m\n\u001b[0;32m----> 4\u001b[0m \u001b[39mimport\u001b[39;00m \u001b[39minspect\u001b[39;00m\n\u001b[1;32m      5\u001b[0m \u001b[39mimport\u001b[39;00m \u001b[39mitertools\u001b[39;00m\n\u001b[1;32m      6\u001b[0m \u001b[39mimport\u001b[39;00m \u001b[39mre\u001b[39;00m\n",
      "File \u001b[0;32m~/.local/lib/python3.10/site-packages/networkx/drawing/layout.py:477\u001b[0m, in \u001b[0;36mspring_layout\u001b[0;34m(G, k, pos, fixed, iterations, threshold, weight, scale, center, dim, seed)\u001b[0m\n\u001b[1;32m    475\u001b[0m \u001b[39mif\u001b[39;00m \u001b[39mlen\u001b[39m(G) \u001b[39m<\u001b[39m \u001b[39m500\u001b[39m:  \u001b[39m# sparse solver for large graphs\u001b[39;00m\n\u001b[1;32m    476\u001b[0m     \u001b[39mraise\u001b[39;00m \u001b[39mValueError\u001b[39;00m\n\u001b[0;32m--> 477\u001b[0m A \u001b[39m=\u001b[39m nx\u001b[39m.\u001b[39;49mto_scipy_sparse_array(G, weight\u001b[39m=\u001b[39;49mweight, dtype\u001b[39m=\u001b[39;49m\u001b[39m\"\u001b[39;49m\u001b[39mf\u001b[39;49m\u001b[39m\"\u001b[39;49m)\n\u001b[1;32m    478\u001b[0m \u001b[39mif\u001b[39;00m k \u001b[39mis\u001b[39;00m \u001b[39mNone\u001b[39;00m \u001b[39mand\u001b[39;00m fixed \u001b[39mis\u001b[39;00m \u001b[39mnot\u001b[39;00m \u001b[39mNone\u001b[39;00m:\n\u001b[1;32m    479\u001b[0m     \u001b[39m# We must adjust k by domain size for layouts not near 1x1\u001b[39;00m\n\u001b[1;32m    480\u001b[0m     nnodes, _ \u001b[39m=\u001b[39m A\u001b[39m.\u001b[39mshape\n",
      "File \u001b[0;32m~/.local/lib/python3.10/site-packages/networkx/utils/backends.py:412\u001b[0m, in \u001b[0;36m_dispatch.__call__\u001b[0;34m(self, backend, *args, **kwargs)\u001b[0m\n\u001b[1;32m    409\u001b[0m \u001b[39mdef\u001b[39;00m \u001b[39m__call__\u001b[39m(\u001b[39mself\u001b[39m, \u001b[39m/\u001b[39m, \u001b[39m*\u001b[39margs, backend\u001b[39m=\u001b[39m\u001b[39mNone\u001b[39;00m, \u001b[39m*\u001b[39m\u001b[39m*\u001b[39mkwargs):\n\u001b[1;32m    410\u001b[0m     \u001b[39mif\u001b[39;00m \u001b[39mnot\u001b[39;00m backends:\n\u001b[1;32m    411\u001b[0m         \u001b[39m# Fast path if no backends are installed\u001b[39;00m\n\u001b[0;32m--> 412\u001b[0m         \u001b[39mreturn\u001b[39;00m \u001b[39mself\u001b[39;49m\u001b[39m.\u001b[39;49morig_func(\u001b[39m*\u001b[39;49margs, \u001b[39m*\u001b[39;49m\u001b[39m*\u001b[39;49mkwargs)\n\u001b[1;32m    414\u001b[0m     \u001b[39m# Use `backend_name` in this function instead of `backend`\u001b[39;00m\n\u001b[1;32m    415\u001b[0m     backend_name \u001b[39m=\u001b[39m backend\n",
      "File \u001b[0;32m~/.local/lib/python3.10/site-packages/networkx/convert_matrix.py:567\u001b[0m, in \u001b[0;36mto_scipy_sparse_array\u001b[0;34m(G, nodelist, dtype, weight, format)\u001b[0m\n\u001b[1;32m    486\u001b[0m \u001b[39m@nx\u001b[39m\u001b[39m.\u001b[39m_dispatch(edge_attrs\u001b[39m=\u001b[39m\u001b[39m\"\u001b[39m\u001b[39mweight\u001b[39m\u001b[39m\"\u001b[39m)\n\u001b[1;32m    487\u001b[0m \u001b[39mdef\u001b[39;00m \u001b[39mto_scipy_sparse_array\u001b[39m(G, nodelist\u001b[39m=\u001b[39m\u001b[39mNone\u001b[39;00m, dtype\u001b[39m=\u001b[39m\u001b[39mNone\u001b[39;00m, weight\u001b[39m=\u001b[39m\u001b[39m\"\u001b[39m\u001b[39mweight\u001b[39m\u001b[39m\"\u001b[39m, \u001b[39mformat\u001b[39m\u001b[39m=\u001b[39m\u001b[39m\"\u001b[39m\u001b[39mcsr\u001b[39m\u001b[39m\"\u001b[39m):\n\u001b[1;32m    488\u001b[0m \u001b[39m    \u001b[39m\u001b[39m\"\"\"Returns the graph adjacency matrix as a SciPy sparse array.\u001b[39;00m\n\u001b[1;32m    489\u001b[0m \n\u001b[1;32m    490\u001b[0m \u001b[39m    Parameters\u001b[39;00m\n\u001b[0;32m   (...)\u001b[0m\n\u001b[1;32m    565\u001b[0m \u001b[39m       https://docs.scipy.org/doc/scipy/reference/sparse.html\u001b[39;00m\n\u001b[1;32m    566\u001b[0m \u001b[39m    \"\"\"\u001b[39;00m\n\u001b[0;32m--> 567\u001b[0m     \u001b[39mimport\u001b[39;00m \u001b[39mscipy\u001b[39;00m \u001b[39mas\u001b[39;00m \u001b[39msp\u001b[39;00m\n\u001b[1;32m    569\u001b[0m     \u001b[39mif\u001b[39;00m \u001b[39mlen\u001b[39m(G) \u001b[39m==\u001b[39m \u001b[39m0\u001b[39m:\n\u001b[1;32m    570\u001b[0m         \u001b[39mraise\u001b[39;00m nx\u001b[39m.\u001b[39mNetworkXError(\u001b[39m\"\u001b[39m\u001b[39mGraph has no nodes or edges\u001b[39m\u001b[39m\"\u001b[39m)\n",
      "\u001b[0;31mModuleNotFoundError\u001b[0m: No module named 'scipy'"
     ]
    },
    {
     "data": {
      "text/plain": [
       "<Figure size 1500x1500 with 0 Axes>"
      ]
     },
     "metadata": {},
     "output_type": "display_data"
    }
   ],
   "source": [
    "# Importando bibliotecas necessárias\n",
    "import pandas as pd\n",
    "import networkx as nx\n",
    "import matplotlib.pyplot as plt\n",
    "from collections import defaultdict\n",
    "\n",
    "# Carregando o conjunto de dados\n",
    "file_path = 'players_filtrado_final.csv'\n",
    "players_data = pd.read_csv(file_path)\n",
    "\n",
    "# Exibindo as primeiras linhas para verificar a estrutura dos dados\n",
    "print(players_data.head())\n",
    "\n",
    "# Criando um grafo vazio\n",
    "G = nx.Graph()\n",
    "\n",
    "# Adicionando vértices (cada jogador é um vértice no grafo)\n",
    "for index, row in players_data.iterrows():\n",
    "    G.add_node(row['Name'], position=row['Position'], overall=row['Overall'])\n",
    "\n",
    "# Agrupar jogadores por posição\n",
    "players_by_position = defaultdict(list)\n",
    "for index, row in players_data.iterrows():\n",
    "    players_by_position[row['Position']].append(row)\n",
    "\n",
    "# Definindo as interações entre posições\n",
    "position_interactions = {\n",
    "    'ST': ['CM', 'CF'],\n",
    "    'CM': ['LB', 'ST'],\n",
    "    'RW': ['LB'],\n",
    "    'LW': ['RB'],\n",
    "    # Adicione mais conforme necessário\n",
    "}\n",
    "\n",
    "# Definindo um threshold para o overall\n",
    "threshold = 85\n",
    "\n",
    "# Criando arestas com base em interações e threshold de overall\n",
    "for position, interacts_with in position_interactions.items():\n",
    "    for player in players_by_position[position]:\n",
    "        for target_position in interacts_with:\n",
    "            for target_player in players_by_position[target_position]:\n",
    "                avg_overall = (player['Overall'] + target_player['Overall']) / 2\n",
    "                if avg_overall >= threshold:\n",
    "                    G.add_edge(player['Name'], target_player['Name'], weight=avg_overall)\n",
    "\n",
    "# Configuração para a visualização do grafo\n",
    "plt.figure(figsize=(15, 15))\n",
    "pos = nx.spring_layout(G)  # Layout dos nós\n",
    "\n",
    "# Cores e tamanhos dos nós baseados em 'Overall'\n",
    "node_color = [G.nodes[node]['overall'] for node in G]\n",
    "node_size = [G.nodes[node]['overall'] * 10 for node in G]  # Ajuste o multiplicador conforme necessário\n",
    "\n",
    "nx.draw(G, pos, with_labels=True, node_size=node_size, node_color=node_color, cmap=plt.cm.Blues, font_size=8)\n",
    "plt.title(\"Grafo de Interações entre Jogadores\")\n",
    "plt.show()"
   ]
  }
 ],
 "metadata": {
  "kernelspec": {
   "display_name": "Python 3 (ipykernel)",
   "language": "python",
   "name": "python3"
  },
  "language_info": {
   "codemirror_mode": {
    "name": "ipython",
    "version": 3
   },
   "file_extension": ".py",
   "mimetype": "text/x-python",
   "name": "python",
   "nbconvert_exporter": "python",
   "pygments_lexer": "ipython3",
   "version": "3.10.12"
  }
 },
 "nbformat": 4,
 "nbformat_minor": 5
}
