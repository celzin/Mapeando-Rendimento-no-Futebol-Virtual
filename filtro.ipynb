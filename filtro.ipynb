{
 "cells": [
  {
   "cell_type": "code",
   "execution_count": 1,
   "metadata": {},
   "outputs": [
    {
     "name": "stdout",
     "output_type": "stream",
     "text": [
      "Arquivo filtrado salvo como: top_players_filtered.csv\n"
     ]
    }
   ],
   "source": [
    "import pandas as pd\n",
    "\n",
    "# Carregar o arquivo CSV em um DataFrame\n",
    "file_path = 'dataset/players_gk_full.csv'  # Substitua pelo caminho do seu arquivo CSV\n",
    "players_data = pd.read_csv(file_path)\n",
    "\n",
    "# Ordenar os jogadores por 'Overall' em ordem decrescente\n",
    "players_data.sort_values(by='Overall', ascending=False, inplace=True)\n",
    "\n",
    "# Categorias e posições específicas\n",
    "categories = {\n",
    "    'Atacantes': ['ST', 'CF', 'RF', 'RS', 'LF', 'LS'],\n",
    "    'Meias': ['CDM', 'CM', 'CAM', 'ROM', 'RM', 'RWM', 'RW', 'LOM', 'LM', 'LWM', 'LW'],\n",
    "    'Zagueiros': ['CB', 'LB', 'RB'],\n",
    "    'Laterais': ['RWB', 'LWB']\n",
    "}\n",
    "\n",
    "# 'CB' : 'LB': 'RB' - Zagueiro\n",
    "# 'RWB': 'LWB' - Lateral\n",
    "# 'CDM': 'CM': 'CAM' : 'ROM': 'RM': 'RWM': 'RW': 'LOM': 'LM': 'LWM': 'LW' - Meias\n",
    "# 'LF': 'LS': 'ST': 'CF': 'RF': 'RS' - Atacante\n",
    "\n",
    "# Número de jogadores a selecionar por posição em cada categoria\n",
    "players_per_position = {\n",
    "    'Atacantes': 11 // 6,  # Dividir igualmente entre 6 posições\n",
    "    'Meias': 11 // 11,     # Dividir igualmente entre 11 posições\n",
    "    'Zagueiros': 11 // 3,  # Dividir igualmente entre 3 posições\n",
    "    'Laterais': 11 // 2    # Dividir igualmente entre 2 posições\n",
    "}\n",
    "\n",
    "# Filtrar os top jogadores por categoria\n",
    "top_players_by_category = pd.DataFrame()\n",
    "\n",
    "for category, positions in categories.items():\n",
    "    for position in positions:\n",
    "        # Filtrar os top N jogadores para a posição atual\n",
    "        top_players = players_data[players_data['Position'] == position].head(players_per_position[category])\n",
    "        top_players_by_category = pd.concat([top_players_by_category, top_players])\n",
    "\n",
    "# Resetar o índice do DataFrame resultante\n",
    "top_players_by_category.reset_index(drop=True, inplace=True)\n",
    "\n",
    "# Salvar o DataFrame filtrado em um novo arquivo CSV\n",
    "filtered_csv_path = 'top_players_filtered.csv'\n",
    "top_players_by_category.to_csv(filtered_csv_path, index=False)\n",
    "\n",
    "print(f\"Arquivo filtrado salvo como: {filtered_csv_path}\")"
   ]
  }
 ],
 "metadata": {
  "kernelspec": {
   "display_name": "Python 3",
   "language": "python",
   "name": "python3"
  },
  "language_info": {
   "codemirror_mode": {
    "name": "ipython",
    "version": 3
   },
   "file_extension": ".py",
   "mimetype": "text/x-python",
   "name": "python",
   "nbconvert_exporter": "python",
   "pygments_lexer": "ipython3",
   "version": "3.10.12"
  }
 },
 "nbformat": 4,
 "nbformat_minor": 2
}
